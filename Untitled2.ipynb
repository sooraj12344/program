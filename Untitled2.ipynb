{
  "nbformat": 4,
  "nbformat_minor": 0,
  "metadata": {
    "colab": {
      "provenance": []
    },
    "kernelspec": {
      "name": "python3",
      "display_name": "Python 3"
    },
    "language_info": {
      "name": "python"
    }
  },
  "cells": [
    {
      "cell_type": "code",
      "execution_count": 17,
      "metadata": {
        "colab": {
          "base_uri": "https://localhost:8080/"
        },
        "id": "3y_p8Ub7djsK",
        "outputId": "9db6fa83-52ac-4376-cdfe-1a66e2267006"
      },
      "outputs": [
        {
          "name": "stdout",
          "output_type": "stream",
          "text": [
            "What is your name? sibin\n"
          ]
        }
      ],
      "source": [
        "1\n",
        "name = input(\"What is your name? \")"
      ]
    },
    {
      "cell_type": "code",
      "source": [
        "\n",
        "print(f\"Hello, {name}!\")"
      ],
      "metadata": {
        "colab": {
          "base_uri": "https://localhost:8080/"
        },
        "id": "WsOQUfnLdtM7",
        "outputId": "62635d85-45e5-4e29-ac97-dfd3b18d59be"
      },
      "execution_count": 19,
      "outputs": [
        {
          "output_type": "stream",
          "name": "stdout",
          "text": [
            "Hello, sibin!\n"
          ]
        }
      ]
    },
    {
      "cell_type": "code",
      "source": [
        "2\n",
        "number = float(input(\"Enter a number: \"))"
      ],
      "metadata": {
        "colab": {
          "base_uri": "https://localhost:8080/"
        },
        "id": "nFcc9TtyeFC7",
        "outputId": "15a340c8-02ac-406a-a351-65cb9014328c"
      },
      "execution_count": 13,
      "outputs": [
        {
          "name": "stdout",
          "output_type": "stream",
          "text": [
            "Enter a number: 4\n"
          ]
        }
      ]
    },
    {
      "cell_type": "code",
      "source": [
        "\n",
        "square = number ** 2"
      ],
      "metadata": {
        "id": "aADbv5X6ejyj"
      },
      "execution_count": 14,
      "outputs": []
    },
    {
      "cell_type": "code",
      "source": [
        "\n",
        "print(f\"The square of {number} is {square}.\")"
      ],
      "metadata": {
        "colab": {
          "base_uri": "https://localhost:8080/"
        },
        "id": "7FEoIe5qepo_",
        "outputId": "51a59436-5aa2-4353-cb84-29b718cc5860"
      },
      "execution_count": 15,
      "outputs": [
        {
          "output_type": "stream",
          "name": "stdout",
          "text": [
            "The square of 4.0 is 16.0.\n"
          ]
        }
      ]
    },
    {
      "cell_type": "code",
      "source": [
        "3\n",
        "def squaresum(n):\n",
        "    sm = 0\n",
        "    for i in range(1, n+1):\n",
        "        sm = sm + (i * i)\n",
        "\n",
        "    return sm\n",
        "\n",
        "\n",
        "\n",
        "n = 4\n",
        "print(squaresum(n))"
      ],
      "metadata": {
        "colab": {
          "base_uri": "https://localhost:8080/"
        },
        "id": "svsRZ3uheujG",
        "outputId": "ea0511c0-7a88-49a0-f629-57d6083009fd"
      },
      "execution_count": 18,
      "outputs": [
        {
          "output_type": "stream",
          "name": "stdout",
          "text": [
            "30\n"
          ]
        }
      ]
    },
    {
      "cell_type": "code",
      "source": [],
      "metadata": {
        "id": "4yqKek1BgVH5"
      },
      "execution_count": null,
      "outputs": []
    }
  ]
}